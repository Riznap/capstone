{
  "nbformat": 4,
  "nbformat_minor": 0,
  "metadata": {
    "colab": {
      "name": "Report.ipynb",
      "version": "0.3.2",
      "provenance": [],
      "collapsed_sections": [],
      "toc_visible": true,
      "include_colab_link": true
    },
    "kernelspec": {
      "name": "python3",
      "display_name": "Python 3"
    }
  },
  "cells": [
    {
      "cell_type": "markdown",
      "metadata": {
        "id": "view-in-github",
        "colab_type": "text"
      },
      "source": [
        "<a href=\"https://colab.research.google.com/github/Riznap/capstone/blob/master/Report.ipynb\" target=\"_parent\"><img src=\"https://colab.research.google.com/assets/colab-badge.svg\" alt=\"Open In Colab\"/></a>"
      ]
    },
    {
      "cell_type": "markdown",
      "metadata": {
        "id": "X5fakejMYliU",
        "colab_type": "text"
      },
      "source": [
        "# Applied DS Capstone Project - The Battle of Neighborhoods"
      ]
    },
    {
      "cell_type": "markdown",
      "metadata": {
        "id": "eV_l86zLYp-N",
        "colab_type": "text"
      },
      "source": [
        "## Business Problem\n"
      ]
    },
    {
      "cell_type": "markdown",
      "metadata": {
        "id": "Xkpw9zcVYvxy",
        "colab_type": "text"
      },
      "source": [
        "Delhi is the capital and one of the best cities in India. It has people from diverse backgrounds and cultures and even larger diversity of food and choice of cuisine. \n",
        "\n",
        "There are already a lot of resturants that are open in the city and hence for anyone trying to start a new restaurant in the city it will have to compete with a lot of others hence resulting in small profit margins\n",
        "\n",
        "In this project I am trying to answer the question - **What will be the ideal location for starting a new restaurant of a particular cuisine so as to maximise profit?** \n",
        "\n",
        "This is for restaurant owners who are looking to start a new restaurant or expand an existing chain of restaurant in the city."
      ]
    },
    {
      "cell_type": "markdown",
      "metadata": {
        "id": "oLDC6-jscHWP",
        "colab_type": "text"
      },
      "source": [
        "## Data "
      ]
    },
    {
      "cell_type": "markdown",
      "metadata": {
        "id": "Arff32TrcXs_",
        "colab_type": "text"
      },
      "source": [
        "1. \"http://www.elections.in/delhi/mcd-elections/mcd-ward-list-2017.html\" - This will provide us with data of the neigbourhoods in delhi but each neigbourhood is segemented into further sub-neigbourhoods hence it will have to cleaned to get only the major neigbourhoods of the city\n",
        "\n",
        "2. The latitude and longitude data is obtained using geolocator library in pyhton \n",
        "\n",
        "3. Ones which geolocator can't locate is obtained from \"https://www.distancesto.com\"\n",
        "\n",
        "3. Foursquare API- This will provide us with the trending neigbourhoods in the area and the number of restaurants of a particular cuisine in the neigbourhood and number of restaurants in general"
      ]
    },
    {
      "cell_type": "code",
      "metadata": {
        "id": "EzYqhL_UYugZ",
        "colab_type": "code",
        "colab": {}
      },
      "source": [
        ""
      ],
      "execution_count": 0,
      "outputs": []
    }
  ]
}